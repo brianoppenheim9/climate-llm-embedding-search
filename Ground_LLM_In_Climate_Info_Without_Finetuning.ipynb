{
  "nbformat": 4,
  "nbformat_minor": 0,
  "metadata": {
    "colab": {
      "provenance": [],
      "authorship_tag": "ABX9TyN3lOqH4qDHczV+B5LXJ2Rc"
    },
    "kernelspec": {
      "name": "python3",
      "display_name": "Python 3"
    },
    "language_info": {
      "name": "python"
    }
  },
  "cells": [
    {
      "cell_type": "markdown",
      "source": [
        "# Goal\n",
        "Lots of great information in climate/earth science is locked up in major intergovernmental reports like the IPCC. The summarized url version linked below is only a small fraction of the actual ~12000 pages that will be eventually be released for the sixth assessment. It would be great to for policymakers and hobbyists to be able to converse with this other documents.\n",
        "\n",
        "Some folks have already tried to do this with ClimateBERT at chatclimate.ai, but to the best of my knowledge this is a fine-tuned approach and about a year behind relevant docs (2022). I'm curious if we can get decent, grounded QA without the overhead and cost of fine-tuning.\n",
        "\n",
        "# Approach\n",
        "\n",
        "Chunk the document and turn those chunks into embeddings using a model of choice (in this case OpenAI for ease of execution). Those embeddings are stored in a database that supports vector similarity search (Pinecone). When a user writes a query we get it into the same emedding space, and retrieve the k=5 most relevant chunks of the document. This is appended as context to the model prompt using Langchain. Heavy lifting of document loading/parsing handled by Langchain as well.\n",
        "\n"
      ],
      "metadata": {
        "id": "VzSM6flCIJHV"
      }
    },
    {
      "cell_type": "markdown",
      "source": [
        "# TODOs\n",
        "\n",
        "\n",
        "*   Actually finalize the list of documents to include all IPCC reports from the sixth assessment cycle once they are released to the public in totality (~12k pages or so?)\n",
        "*   Langchain claims the tokenizing/parsing works out of the box but may want to double check this/weird symbols.\n",
        "*   On the same note, these papers are filled with charts/infographics/tables. Can't do much about the infographics w/o multi-modal, but should dig really deep into the tables/figures to see if we're extracting correctly.\n",
        "*   Smarter document chunking as opposed to just going by e.g 1000. Maybe crawl the DOM, get paragraphs and such.\n",
        "*   Different ways of doing vector similarity search and langchain appending.\n",
        "*   Overall the model is a little *too* grounded and has a tendency to pull only the minimum correct info from the document without the normal elaboration that makes LLMs useful. See if I can tune temperature higher to support more creative/synthesizing queries without sacrificing the objectivity we try to cultivate, or maybe just feed less context (k <= 3 for retrieval? Or assign this dynamically on document size?).\n",
        "\n",
        "\n"
      ],
      "metadata": {
        "id": "2jVTPffcOTP-"
      }
    },
    {
      "cell_type": "markdown",
      "source": [
        "**Install Neceessary Package and Set Up API Keys**"
      ],
      "metadata": {
        "id": "kjcU8K4Wvu8F"
      }
    },
    {
      "cell_type": "code",
      "execution_count": null,
      "metadata": {
        "id": "vyCBY_jpm1Tr"
      },
      "outputs": [],
      "source": [
        "!pip install langchain --upgrade\n",
        "!pip install unstructured\n",
        "!pip install pinecone-client\n",
        "!pip install getpass4\n",
        "!pip install openai\n",
        "!pip install tiktoken"
      ]
    },
    {
      "cell_type": "code",
      "source": [
        "from getpass import getpass\n",
        "from langchain.chains.question_answering import load_qa_chain\n",
        "from langchain.document_loaders import UnstructuredURLLoader\n",
        "from langchain.embeddings.openai import OpenAIEmbeddings\n",
        "from langchain.llms import OpenAI\n",
        "from langchain.text_splitter import RecursiveCharacterTextSplitter\n",
        "from langchain.vectorstores import Pinecone\n",
        "import pinecone"
      ],
      "metadata": {
        "id": "w4JAgSxLrE9F"
      },
      "execution_count": null,
      "outputs": []
    },
    {
      "cell_type": "code",
      "source": [
        "# Extract necessary api key and metadata without putting them on the internet...\n",
        "openai_api_key = getpass('Enter OpenAI API key: ')\n",
        "pinecone_api_key = getpass('Enter pinecone API key: ')\n",
        "pinecone_environment = 'us-west1-gcp-free' # To the left of api key\n",
        "# Name of the index to use in Pinecone Vector Database. For this I created the\n",
        "# index with dimension size 1536 (this matches the size of OpenAI's embeddings\n",
        "# but you could also use HuggingFace, etc. so long as it matches) and cosine\n",
        "# similarity as the default notion of vector similarity.\n",
        "pinecone_index = 'climatequery'"
      ],
      "metadata": {
        "colab": {
          "base_uri": "https://localhost:8080/"
        },
        "id": "a2pxJYGdzYi3",
        "outputId": "4064201f-536e-474a-c4d1-a1b57b6430ad"
      },
      "execution_count": 3,
      "outputs": [
        {
          "name": "stdout",
          "output_type": "stream",
          "text": [
            "Enter OpenAI API key: ··········\n",
            "Enter Pinecone API key: ··········\n"
          ]
        }
      ]
    },
    {
      "cell_type": "markdown",
      "source": [
        "**Extract and Load Climate Information**"
      ],
      "metadata": {
        "id": "h1dqFTW7vBL1"
      }
    },
    {
      "cell_type": "code",
      "source": [
        "# Summarized version of the report as a placeholder for the proof of concept,\n",
        "# to be replaced by the full 12k pages when released.\n",
        "urls = [\n",
        "    \"https://www.ipcc.ch/report/ar6/syr/downloads/report/IPCC_AR6_SYR_SPM.pdf\",\n",
        "]\n",
        "loader = UnstructuredURLLoader(urls=urls)\n",
        "data = loader.load()\n",
        "\n",
        "splitter = RecursiveCharacterTextSplitter(chunk_size=1000, chunk_overlap=0)\n",
        "text_chunks = splitter.split_documents(data)"
      ],
      "metadata": {
        "id": "C3oq_wUNnicT"
      },
      "execution_count": null,
      "outputs": []
    },
    {
      "cell_type": "code",
      "source": [
        "# Sanity check the text.\n",
        "print(f'{len(data)} doc(s) processed. First doc has {len(data[0].page_content)} tokens.')\n",
        "print(f'{len(text_chunks)} chunks created.')"
      ],
      "metadata": {
        "colab": {
          "base_uri": "https://localhost:8080/"
        },
        "id": "E6KH1EuvsyUq",
        "outputId": "feec88bc-86e6-4d31-aec0-f079c82a2b26"
      },
      "execution_count": 6,
      "outputs": [
        {
          "output_type": "stream",
          "name": "stdout",
          "text": [
            "1 doc(s) processed. First doc has 149761 tokens.\n",
            "207 chunks created.\n"
          ]
        }
      ]
    },
    {
      "cell_type": "markdown",
      "source": [
        "**Perform Semantic Search by Embedding Document Text**"
      ],
      "metadata": {
        "id": "ijbpiGmlGsM6"
      }
    },
    {
      "cell_type": "code",
      "source": [
        "pinecone.init(api_key=pinecone_api_key, environment=pinecone_environment)\n",
        "openai_embeddings = OpenAIEmbeddings(openai_api_key=openai_api_key)"
      ],
      "metadata": {
        "id": "xurCxIqKyNII"
      },
      "execution_count": 53,
      "outputs": []
    },
    {
      "cell_type": "code",
      "source": [
        "content = [text.page_content for text in text_chunks]\n",
        "docsearch = Pinecone.from_texts(content, openai_embeddings,\n",
        "                                index_name=pinecone_index)"
      ],
      "metadata": {
        "id": "VmffXZCUC6Lp"
      },
      "execution_count": 57,
      "outputs": []
    },
    {
      "cell_type": "code",
      "source": [
        "model = OpenAI(temperature=0.2, openai_api_key=openai_api_key)"
      ],
      "metadata": {
        "id": "R1hEQCTlHJPC"
      },
      "execution_count": 58,
      "outputs": []
    },
    {
      "cell_type": "code",
      "source": [
        "# 'stuff' uses all retrieved documents without filtering. For larger documents\n",
        "# it may be better to do map_reduce or map_rerank which filters the least useful\n",
        "# retrieved docs.\n",
        "chain = load_qa_chain(model, chain_type=\"stuff\")"
      ],
      "metadata": {
        "id": "45ycyzQRJd3s"
      },
      "execution_count": 59,
      "outputs": []
    },
    {
      "cell_type": "markdown",
      "source": [
        "**Query Model w/ Document Context**"
      ],
      "metadata": {
        "id": "8opSHpm-GpC4"
      }
    },
    {
      "cell_type": "code",
      "source": [
        "question = \"If we do nothing, how much will the planet warm by 2100\"\n",
        "similar_docs = docsearch.similarity_search(question)\n",
        "print(similar_docs)"
      ],
      "metadata": {
        "colab": {
          "base_uri": "https://localhost:8080/"
        },
        "id": "RC86Qzfjum1z",
        "outputId": "ce680e8b-b7d2-42a1-ac24-1a65865b1274"
      },
      "execution_count": 74,
      "outputs": [
        {
          "output_type": "stream",
          "name": "stdout",
          "text": [
            "[Document(page_content='Increase in compound ﬂooding\\n\\nc) The extent to which current and future generations will experience a hotter and different world depends on choices now and in the near-term\\n\\n2020\\n\\n2011-2020 was around 1.1°C warmer than 1850-1900\\n\\nfuture experiences depend on how we address climate change\\n\\nFuture emissions scenarios:\\n\\n1900\\n\\n1940\\n\\n1980\\n\\n2060\\n\\n2100\\n\\nvery high\\n\\nwarming continues beyond 2100\\n\\nhigh\\n\\nintermediate\\n\\nlow\\n\\nvery low\\n\\n°C\\n\\nGlobal temperature change above 1850-1900 levels\\n\\n70 years old in 2090\\n\\nborn in 2020\\n\\n0\\n\\n0.5\\n\\n1\\n\\n1.5\\n\\n2\\n\\n2.5\\n\\n3\\n\\n3.5\\n\\n4\\n\\nborn in 1980\\n\\n70 years old in 2050\\n\\n70 years old in 2020\\n\\nborn in 1950', metadata={}), Document(page_content='B.7.1 Only a small number of the most ambitious global modelled pathways limit global warming to 1.5°C (>50%) by 2100 without exceeding this level temporarily. Achieving and sustaining net negative global CO2 emissions, with annual rates of CDR greater than residual CO2 emissions, would gradually reduce the warming level again (high confidence). Adverse impacts that occur during this period of overshoot and cause additional warming via feedback mechanisms, such as increased wildfires, mass mortality of trees, drying of peatlands, and permafrost thawing, weakening natural land carbon sinks and increasing releases of GHGs would make the return more challenging (medium confidence). {3.3.2, 3.3.4, Table 3.1, Figure 3.6} (Box SPM.1)', metadata={}), Document(page_content='B.3.3 The probability of low-likelihood outcomes associated with potentially very large impacts increases with higher global warming levels (high confidence). Due to deep uncertainty linked to ice-sheet processes, global mean sea level rise above the likely range – approaching 2 m by 2100 and in excess of 15 m by 2300 under the very high GHG emissions scenario (SSP5-8.5) (low confidence) – cannot be excluded. There is medium confidence that the Atlantic Meridional Overturning Circulation will not collapse abruptly before 2100, but if it were to occur, it would very likely cause abrupt shifts in regional weather patterns, and large impacts on ecosystems and human activities. {3.1.3} (Box SPM.1)\\n\\n18\\n\\nSubject to final copy-edit and layout prior to its final publication\\n\\nSummary for Policymakers\\n\\nSummary for Policymakers\\n\\nAdaptation Options and their Limits in a Warmer World', metadata={}), Document(page_content='B.1.1 Global warming28 will continue to increase in the near term (2021-2040) mainly due to increased cumulative CO2 emissions in nearly all considered scenarios and modelled pathways. In the near term, global warming is more likely than not to reach 1.5°C even under the very low GHG emission scenario (SSP1-1.9) and likely or very likely to exceed 1.5°C under higher emissions scenarios. In the considered scenarios and modelled pathways, the best estimates of the time when the level of global warming of 1.5°C is reached lie in the near term29. Global warming declines back to below 1.5°C by the end of the 21st century in some scenarios and modelled pathways (see B.7). The assessed climate response to GHG emissions scenarios results in a best estimate of warming for 2081-2100 that spans a range from 1.4°C for a very low GHG emissions scenario (SSP1-1.9) to 2.7°C for an intermediate GHG emissions scenario (SSP2-4.5) and 4.4°C for a very high GHG emissions scenario (SSP5-8.5)30, with', metadata={})]\n"
          ]
        }
      ]
    },
    {
      "cell_type": "code",
      "source": [
        "# Correct, see section B.1.1\n",
        "chain.run(input_documents=similar_docs, question=question)"
      ],
      "metadata": {
        "colab": {
          "base_uri": "https://localhost:8080/",
          "height": 35
        },
        "id": "OO9hvmr6u58P",
        "outputId": "6f13ee20-f6be-4dae-b927-09b4178bdb44"
      },
      "execution_count": 75,
      "outputs": [
        {
          "output_type": "execute_result",
          "data": {
            "text/plain": [
              "' If we do nothing, the planet is likely to warm by 4.4°C by 2100.'"
            ],
            "application/vnd.google.colaboratory.intrinsic+json": {
              "type": "string"
            }
          },
          "metadata": {},
          "execution_count": 75
        }
      ]
    },
    {
      "cell_type": "code",
      "source": [
        "# Model without any documents.\n",
        "# Not wrong but not as up-to-date / precise.\n",
        "model(question)"
      ],
      "metadata": {
        "colab": {
          "base_uri": "https://localhost:8080/",
          "height": 35
        },
        "id": "CcmLyxfeu937",
        "outputId": "f3e94f37-acdc-4be1-bdd7-bab0b1015b78"
      },
      "execution_count": 76,
      "outputs": [
        {
          "output_type": "execute_result",
          "data": {
            "text/plain": [
              "'?\\n\\nIf no action is taken to reduce emissions, the planet is projected to warm by an average of 3.2 to 5.4 degrees Celsius (5.8 to 9.7 degrees Fahrenheit) by 2100.'"
            ],
            "application/vnd.google.colaboratory.intrinsic+json": {
              "type": "string"
            }
          },
          "metadata": {},
          "execution_count": 76
        }
      ]
    },
    {
      "cell_type": "code",
      "source": [
        "# The paper gives a lot of ways to mitigate... In particular I'm looking for the\n",
        "# the best results from the (difficult to parse) table on page 31.\n",
        "question = \"What are the five best mitigation options to reduce net emissions?\"\n",
        "similar_docs = docsearch.similarity_search(question)\n",
        "print(similar_docs)"
      ],
      "metadata": {
        "colab": {
          "base_uri": "https://localhost:8080/"
        },
        "id": "uZOCEg_4KIZS",
        "outputId": "da9cb878-316e-48b7-ee11-4dd24f92a441"
      },
      "execution_count": 60,
      "outputs": [
        {
          "output_type": "stream",
          "name": "stdout",
          "text": [
            "[Document(page_content='y t i l i\\n\\ns e i g r e n y S\\n\\nClimate responses and adaptation options\\n\\nl\\n\\na i t n e t o P\\n\\nMitigation options\\n\\nPotential contribution to net emission reduction, 2030\\n\\nb i s a e f\\n\\nh t i\\n\\nGtCO2-eq/yr 4\\n\\nm\\n\\nw\\n\\n0\\n\\n1\\n\\n2\\n\\n3\\n\\n5\\n\\nY L P P U S Y G R E N E\\n\\nSolar\\n\\nWind Reduce methane from coal, oil and gas Bioelectricity (includes BECCS) Geothermal and hydropower Nuclear\\n\\nEnergy reliability (e.g. diversiﬁcation, access, stability) Resilient power systems\\n\\nImprove water use efﬁciency\\n\\nFossil Carbon Capture and Storage (CCS)\\n\\nD O O F\\n\\nEfﬁcient livestock systems\\n\\nImproved cropland management Water use efﬁciency and water resource management Biodiversity management and ecosystem connectivity Agroforestry\\n\\nReduce conversion of natural ecosystems\\n\\n,\\n\\nR E T A W\\n\\nCarbon sequestration in agriculture Ecosystem restoration, afforestation, reforestation\\n\\n,\\n\\nD N A L\\n\\nShift to sustainable healthy diets\\n\\nSustainable aquaculture and ﬁsheries\\n\\nImproved sustainable forest management\\n\\nForest-based adaptation', metadata={}), Document(page_content='B.6.3 Global modelled mitigation pathways reaching net zero CO2 and GHG emissions include transitioning from fossil fuels without carbon capture and storage (CCS) to very low- or zero-carbon energy sources, such as renewables or fossil fuels with CCS, demand-side measures and improving efficiency, reducing non-CO2 GHG emissions, and, and CDR47. In most global modelled pathways, land-use change and forestry (via reforestation and reduced deforestation) and the energy supply sector reach net zero CO2 emissions earlier than the buildings, industry and transport sectors. (high confidence) {3.3.3, 4.1, 4.5, Figure 4.1} (Figure SPM.5, Box SPM.1)', metadata={}), Document(page_content='A.4.2 Several mitigation options, notably solar energy, wind energy, electrification of urban systems, urban green infrastructure, energy efficiency, demand-side management, improved forest- and crop/grassland management, and reduced food waste and loss, are technically viable, are becoming increasingly cost effective and are generally supported by the\\n\\n24 At least 1.8 GtCO2-eq yr–1 can be accounted for by aggregating separate estimates for the effects of economic and regulatory instruments. Growing numbers of laws and executive orders have impacted global emissions and were estimated to result in 5.9 GtCO2-eq yr–1 less emissions in 2016 than they otherwise would have been. (medium confidence). {2.2.2}\\n\\n25\\n\\nReductions were linked to energy supply decarbonisation, energy efficiency gains, and energy demand reduction, which resulted from both policies and\\n\\nchanges in economic structure (high confidence). {2.2.2}\\n\\n10\\n\\nSubject to final copy-edit and layout prior to its final publication', metadata={}), Document(page_content='C.3.3 Reducing industry GHG emissions entails coordinated action throughout value chains to promote all mitigation options, including demand management, energy and materials efficiency, circular material flows, as well as abatement technologies and transformational changes in production processes (high confidence). In transport, sustainable biofuels, low-emissions hydrogen, and derivatives (including ammonia and synthetic fuels) can support mitigation of CO2 emissions from shipping, aviation, and heavy-duty land transport but require production process improvements and cost reductions (medium confidence). Sustainable biofuels can offer additional mitigation benefits in land-based transport in the short and medium term (medium confidence). Electric vehicles powered by low-GHG emissions electricity have large potential to reduce land-based transport GHG emissions, on a life cycle basis (high confidence). Advances in battery technologies could facilitate the electrification of heavy-duty', metadata={})]\n"
          ]
        }
      ]
    },
    {
      "cell_type": "code",
      "source": [
        "# It's terse but this is exactly the correct order.\n",
        "chain.run(input_documents=similar_docs, question=question)"
      ],
      "metadata": {
        "colab": {
          "base_uri": "https://localhost:8080/",
          "height": 35
        },
        "id": "mMv17cNmGicx",
        "outputId": "d6627def-ec2f-4f69-acd0-e6a9a47416f7"
      },
      "execution_count": 62,
      "outputs": [
        {
          "output_type": "execute_result",
          "data": {
            "text/plain": [
              "' Solar, wind, reduce methane from coal, oil and gas, bioelectricity (includes BECCS), and geothermal and hydropower.'"
            ],
            "application/vnd.google.colaboratory.intrinsic+json": {
              "type": "string"
            }
          },
          "metadata": {},
          "execution_count": 62
        }
      ]
    },
    {
      "cell_type": "code",
      "source": [
        "# More expository and not wrong, just not necessarily grounded in the results\n",
        "# of the paper.\n",
        "model(question)"
      ],
      "metadata": {
        "colab": {
          "base_uri": "https://localhost:8080/",
          "height": 105
        },
        "id": "T0g8uLAeZWOL",
        "outputId": "5344cf65-f95a-43ff-cf00-6fe701bf74d4"
      },
      "execution_count": 61,
      "outputs": [
        {
          "output_type": "execute_result",
          "data": {
            "text/plain": [
              "'\\n\\n1. Increase energy efficiency: Investing in energy efficiency measures such as insulation, LED lighting, and energy efficient appliances can reduce energy consumption and emissions.\\n\\n2. Renewable energy: Investing in renewable energy sources such as solar, wind, and geothermal can reduce emissions and provide clean energy.\\n\\n3. Carbon capture and storage: Capturing and storing carbon dioxide emissions from power plants and other sources can reduce net emissions.\\n\\n4. Reforestation: Planting trees and other vegetation can help absorb carbon dioxide from the atmosphere and reduce net emissions.\\n\\n5. Sustainable agriculture: Implementing sustainable agricultural practices such as crop rotation, cover crops, and no-till farming can reduce emissions from agricultural activities.'"
            ],
            "application/vnd.google.colaboratory.intrinsic+json": {
              "type": "string"
            }
          },
          "metadata": {},
          "execution_count": 61
        }
      ]
    },
    {
      "cell_type": "code",
      "source": [
        "# There is a little ambiguity in this question (e.g reduce emissions\n",
        "# compared to what timeframe? What is the time horizon?)\n",
        "question = \"How many gigatons of CO2 emissions do we have to cut by 2035 to limit warming to 1.5 degrees Celcius?\"\n",
        "similar_docs = docsearch.similarity_search(question)\n",
        "print(similar_docs)"
      ],
      "metadata": {
        "colab": {
          "base_uri": "https://localhost:8080/"
        },
        "id": "5vKzcArDD3iB",
        "outputId": "941713c0-aa0f-4076-c034-00bab7db417b"
      },
      "execution_count": 79,
      "outputs": [
        {
          "output_type": "stream",
          "name": "stdout",
          "text": [
            "[Document(page_content='Limiting human-caused global warming requires net zero CO2 emissions. Cumulative carbon emissions until the time of reaching net zero CO2 emissions and the level of greenhouse gas emission reductions this decade largely determine whether warming can be limited to 1.5°C or 2°C (high confidence). Projected CO2 emissions from existing fossil fuel infrastructure without additional abatement would exceed the remaining carbon budget for 1.5°C (50%) (high confidence). {2.3, 3.1, 3.3, Table 3.1}', metadata={}), Document(page_content='B.5.4 Based on central estimates only, historical cumulative net CO2 emissions between 1850 and 2019 amount to about four-fifths45 of the total carbon budget for a 50% probability of limiting global warming to 1.5°C (central estimate about 2900 GtCO2), and to about two thirds46 of the total carbon budget for a 67% probability to limit global warming to 2°C (central estimate about 3550 GtCO2). {3.3.1, Figure 3.5}\\n\\nMitigation Pathways\\n\\nB.6 All global modelled pathways that limit warming to 1.5°C (>50%) with no or limited overshoot, and those that limit warming to 2°C (>67%), involve rapid and deep and, in most cases, immediate greenhouse gas emissions reductions in all sectors this decade. Global net zero CO2 emissions are reached for these pathway categories, in the early 2050s and around the early 2070s, respectively. (high confidence) {3.3, 3.4, 4.1, 4.5, Table 3.1} (Figure SPM.5, Box SPM.1)', metadata={}), Document(page_content='Limiting warming to 1.5°C and 2°C involves rapid, deep and in most cases immediate greenhouse gas emission reductions\\n\\n20\\n\\n20\\n\\nNet zero CO2 and net zero GHG emissions can be achieved through strong reductions across all sectors\\n\\na) Net global greenhouse a) Net global greenhouse gas (GHG) emissions gas (GHG) emissions\\n\\n2019 emissions were 12% higher than 2010\\n\\n0\\n\\n0\\n\\n) r y / q e - 2\\n\\nImplemented policies result in projected emissions that lead to warming of 3.2°C, with a range of 2.2°C to 3.5°C (medium confidence)\\n\\nImplemented policies Implemented policies\\n\\nO C t G\\n\\nIMP-SP\\n\\nIMP-LD\\n\\n2019comparison\\n\\nIMP-Ren\\n\\nNationally Determined Contributions (NDCs) range in 2030\\n\\n(\\n\\nIMP-GS\\n\\n20\\n\\n−20\\n\\ns n o i s s i m e t n e l a v i u q e - 2\\n\\nIMP-Neg\\n\\nKey\\n\\n2000\\n\\n2020\\n\\n2040\\n\\n2060\\n\\n2080\\n\\n2100\\n\\nImplemented policies (median, with percentiles 25-75% and 5-95%)\\n\\nLimit warming to 2°C (>67%)\\n\\nLimit warming to 1.5°C (>50%) with no or limited overshoot', metadata={}), Document(page_content='B.5.2 For every 1000 GtCO2 emitted by human activity, global surface temperature rises by 0.45°C (best estimate, with a likely range from 0.27°C to 0.63°C). The best estimates of the remaining carbon budgets from the beginning of 2020 are 500 GtCO2 for a 50% likelihood of limiting global warming to 1.5°C and 1150 GtCO2 for a 67% likelihood of limiting warming to 2°C40. The stronger the reductions in non-CO2 emissions the lower the resulting temperatures are for a given remaining carbon budget or the larger remaining carbon budget for the same level of temperature change41. {3.3.1}\\n\\n39 Net zero GHG emissions defined by the 100-year global warming potential. See footnote 9.', metadata={})]\n"
          ]
        }
      ]
    },
    {
      "cell_type": "code",
      "source": [
        "# 8.5 is orders of magnitude off the mark...\n",
        "model(question)"
      ],
      "metadata": {
        "colab": {
          "base_uri": "https://localhost:8080/",
          "height": 53
        },
        "id": "fKw_232tVhAz",
        "outputId": "7fc936a3-f5d6-4a48-92c2-f2548f953198"
      },
      "execution_count": 80,
      "outputs": [
        {
          "output_type": "execute_result",
          "data": {
            "text/plain": [
              "'\\n\\nAccording to the Intergovernmental Panel on Climate Change (IPCC), we need to cut global net CO2 emissions by 45% from 2010 levels by 2030 and reach net zero by 2050 in order to limit global warming to 1.5 degrees Celsius. This would require reducing global CO2 emissions by an estimated 8.5 gigatons by 2035.'"
            ],
            "application/vnd.google.colaboratory.intrinsic+json": {
              "type": "string"
            }
          },
          "metadata": {},
          "execution_count": 80
        }
      ]
    },
    {
      "cell_type": "code",
      "source": [
        "# Correct according to B.5.2\n",
        "chain.run(input_documents=similar_docs, question=question)"
      ],
      "metadata": {
        "colab": {
          "base_uri": "https://localhost:8080/",
          "height": 70
        },
        "id": "QSjPJnPlJ5Mc",
        "outputId": "96afb455-86f2-49c8-d952-8d3a48e3f103"
      },
      "execution_count": 81,
      "outputs": [
        {
          "output_type": "execute_result",
          "data": {
            "text/plain": [
              "' According to the context, limiting warming to 1.5°C with no or limited overshoot involves rapid and deep and, in most cases, immediate greenhouse gas emissions reductions in all sectors this decade. The best estimates of the remaining carbon budgets from the beginning of 2020 are 500 GtCO2 for a 50% likelihood of limiting global warming to 1.5°C. Therefore, we need to cut at least 500 GtCO2 emissions by 2035 to limit warming to 1.5 degrees Celcius.'"
            ],
            "application/vnd.google.colaboratory.intrinsic+json": {
              "type": "string"
            }
          },
          "metadata": {},
          "execution_count": 81
        }
      ]
    },
    {
      "cell_type": "code",
      "source": [
        "# Test when we get queries with less explicit connections to the source.\n",
        "# See if it actually gives a creative answer.\n",
        "\n",
        "# Both answers work but the one without grounding is probably a little\n",
        "# subjectively better/informative.\n",
        "question = \"What are some creative ways to combat climate change?\"\n",
        "similar_docs = docsearch.similarity_search(question)\n",
        "print(similar_docs)"
      ],
      "metadata": {
        "colab": {
          "base_uri": "https://localhost:8080/"
        },
        "id": "VBq-bZ55H8Z2",
        "outputId": "8e362ef2-eb7c-4a9a-dd44-8abef339c4d0"
      },
      "execution_count": 83,
      "outputs": [
        {
          "output_type": "stream",
          "name": "stdout",
          "text": [
            "[Document(page_content='A.3.2 Effectiveness15 of adaptation in reducing climate risks16 is documented for specific contexts, sectors and regions (high confidence). Examples of effective adaptation options include: cultivar improvements, on-farm water management and storage, soil moisture conservation, irrigation, agroforestry, community-based adaptation, farm and landscape level diversification in agriculture, sustainable land management approaches, use of agroecological principles and practices and other approaches that work with natural processes (high confidence). Ecosystem-based adaptation17 approaches such as urban greening, restoration of wetlands and upstream forest ecosystems have been effective in reducing flood risks and urban heat (high confidence). Combinations of non-structural measures like early warning systems and structural measures like levees have reduced loss of lives in case of inland flooding (medium confidence). Adaptation options such as disaster risk management, early warning', metadata={}), Document(page_content='y t i l i\\n\\ns e i g r e n y S\\n\\nClimate responses and adaptation options\\n\\nl\\n\\na i t n e t o P\\n\\nMitigation options\\n\\nPotential contribution to net emission reduction, 2030\\n\\nb i s a e f\\n\\nh t i\\n\\nGtCO2-eq/yr 4\\n\\nm\\n\\nw\\n\\n0\\n\\n1\\n\\n2\\n\\n3\\n\\n5\\n\\nY L P P U S Y G R E N E\\n\\nSolar\\n\\nWind Reduce methane from coal, oil and gas Bioelectricity (includes BECCS) Geothermal and hydropower Nuclear\\n\\nEnergy reliability (e.g. diversiﬁcation, access, stability) Resilient power systems\\n\\nImprove water use efﬁciency\\n\\nFossil Carbon Capture and Storage (CCS)\\n\\nD O O F\\n\\nEfﬁcient livestock systems\\n\\nImproved cropland management Water use efﬁciency and water resource management Biodiversity management and ecosystem connectivity Agroforestry\\n\\nReduce conversion of natural ecosystems\\n\\n,\\n\\nR E T A W\\n\\nCarbon sequestration in agriculture Ecosystem restoration, afforestation, reforestation\\n\\n,\\n\\nD N A L\\n\\nShift to sustainable healthy diets\\n\\nSustainable aquaculture and ﬁsheries\\n\\nImproved sustainable forest management\\n\\nForest-based adaptation', metadata={}), Document(page_content='C.2.3 Accelerated climate action can also provide co-benefits (see also C.4). Many mitigation actions would have benefits for health through lower air pollution, active mobility (e.g., walking, cycling), and shifts to sustainable healthy diets. Strong, rapid and sustained reductions in methane emissions can limit near-term warming and improve air quality by reducing global surface ozone. (high confidence) Adaptation can generate multiple additional benefits such as improving agricultural productivity, innovation, health and wellbeing, food security, livelihood, and biodiversity conservation (very high confidence). {4.2, 4.5.4, 4.5.5, 4.6}', metadata={}), Document(page_content='used instead of more GHG-intensive products in other sectors. Effective adaptation options include cultivar improvements, agroforestry, community-based adaptation, farm and landscape diversification, and urban agriculture. These AFOLU response options require integration of biophysical, socioeconomic and other enabling factors. Some options, such as conservation of high-carbon ecosystems (e.g., peatlands, wetlands, rangelands, mangroves and forests), deliver immediate benefits, while others, such as restoration of high-carbon ecosystems, take decades to deliver measurable results. {4.5.4} (Figure SPM.7)', metadata={})]\n"
          ]
        }
      ]
    },
    {
      "cell_type": "code",
      "source": [
        "chain.run(input_documents=similar_docs, question=question)"
      ],
      "metadata": {
        "colab": {
          "base_uri": "https://localhost:8080/",
          "height": 53
        },
        "id": "qvCUrKLCH-yT",
        "outputId": "45a8dace-342d-4b3d-f4e5-4913102d4acc"
      },
      "execution_count": 84,
      "outputs": [
        {
          "output_type": "execute_result",
          "data": {
            "text/plain": [
              "' Some creative ways to combat climate change include using carbon capture and storage, improving water use efficiency, shifting to sustainable healthy diets, restoring ecosystems, agroforestry, and using renewable energy sources like solar and wind.'"
            ],
            "application/vnd.google.colaboratory.intrinsic+json": {
              "type": "string"
            }
          },
          "metadata": {},
          "execution_count": 84
        }
      ]
    },
    {
      "cell_type": "code",
      "source": [
        "model(question)"
      ],
      "metadata": {
        "colab": {
          "base_uri": "https://localhost:8080/",
          "height": 122
        },
        "id": "3w0hh6PlzdQ9",
        "outputId": "4a36ff3e-2ef0-4e35-d4fd-e17da376aa21"
      },
      "execution_count": 85,
      "outputs": [
        {
          "output_type": "execute_result",
          "data": {
            "text/plain": [
              "'\\n\\n1. Plant trees: Planting trees is one of the most effective ways to combat climate change. Trees absorb carbon dioxide from the atmosphere, helping to reduce the amount of greenhouse gases in the air.\\n\\n2. Reduce energy consumption: Reducing energy consumption is one of the most important things we can do to combat climate change. This can be done by using energy-efficient appliances, turning off lights when not in use, and unplugging electronics when not in use.\\n\\n3. Use renewable energy sources: Renewable energy sources such as solar, wind, and geothermal can help reduce our reliance on fossil fuels and reduce greenhouse gas emissions.\\n\\n4. Eat less meat: Eating less meat can help reduce greenhouse gas emissions, as the production of meat requires a lot of energy and resources.\\n\\n5. Support sustainable agriculture: Supporting sustainable agriculture practices such as crop rotation, composting, and using natural fertilizers can help reduce the amount of greenhouse gases released into the atmosphere.\\n\\n6. Drive less: Driving less can help reduce greenhouse gas emissions, as cars and other vehicles are major sources of air pollution.\\n\\n7. Recycle: Recycling can help reduce the amount of waste that is sent to landfills,'"
            ],
            "application/vnd.google.colaboratory.intrinsic+json": {
              "type": "string"
            }
          },
          "metadata": {},
          "execution_count": 85
        }
      ]
    },
    {
      "cell_type": "code",
      "source": [
        "question = \"How do I install solar on my roof?\"\n",
        "similar_docs = docsearch.similarity_search(question)\n",
        "print(similar_docs)"
      ],
      "metadata": {
        "colab": {
          "base_uri": "https://localhost:8080/"
        },
        "id": "iJA7D-W5Unsb",
        "outputId": "abcdc607-06b1-475e-a71f-aa46f713603c"
      },
      "execution_count": 71,
      "outputs": [
        {
          "output_type": "stream",
          "name": "stdout",
          "text": [
            "[Document(page_content='Summary for Policymakers\\n\\nSummary for Policymakers\\n\\npublic. From 2010-2019 there have been sustained decreases in the unit costs of solar energy (85%), wind energy (55%), and lithium-ion batteries (85%), and large increases in their deployment, e.g., >10x for solar and >100x for electric vehicles (EVs), varying widely across regions. The mix of policy instruments that reduced costs and stimulated adoption includes public R&D, funding for demonstration and pilot projects, and demand-pull instruments such as deployment subsidies to attain scale. Maintaining emission-intensive systems may, in some regions and sectors, be more expensive than transitioning to low emission systems. (high confidence) {2.2.2, Figure 2.4}', metadata={}), Document(page_content='management (e.g., storage and energy efficiency improvements) can increase energy reliability and reduce vulnerabilities to climate change (high confidence). Climate responsive energy markets, updated design standards on energy assets according to current and projected climate change, smart-grid technologies, robust transmission systems and improved capacity to respond to supply deficits have high feasibility in the medium- to long-term, with mitigation co-benefits (very high confidence). {4.5.1} (Figure SPM.7)', metadata={}), Document(page_content='Figure SPM.7: Multiple Opportunities for scaling up climate action. Panel (a) presents selected mitigation and adaptation options across different systems. The left-hand side of panel a shows climate responses and adaptation options assessed for their multidimensional feasibility at global scale, in the near term and up to 1.5°C global warming. As literature above 1.5°C is limited, feasibility at higher levels of warming may change, which is currently not possible to assess robustly. The term response is used here in addition to adaptation because some responses, such as migration, relocation and resettlement may or may not be considered to be adaptation. Forest based adaptation includes sustainable forest management, forest conservation and restoration, reforestation\\n\\n27\\n\\nSubject to final copy-edit and layout prior to its final publication\\n\\nSummary for Policymakers\\n\\nSummary for Policymakers', metadata={}), Document(page_content='“Fog opening the dawn” by Chung Jin Sil\\n\\nThe Weather and Climate Photography & Video Contest 2021, Korea Meteorological Administration http://www.kma.go.kr/kma © KMA\\n\\nTHE INTERGOVERNMENTAL PANEL ON CLIMATE CHANGE\\n\\n© Intergovernmental Panel on Climate Change, 2023\\n\\nThe designations employed and the presentation of material on maps do not imply the expression of any opinion whatsoever on the part of the Intergovernmental Panel on Climate Change concerning the legal status of any country, territory, city or area or of its authorities, or concerning the delimitation of its frontiers or boundaries. The mention of specific companies or products does not imply that they are endorsed or recommended by IPCC in preference to others of a similar nature, which are not mentioned or advertised. The right of publication in print, electronic and any other form and in any language is reserved by the IPCC.', metadata={})]\n"
          ]
        }
      ]
    },
    {
      "cell_type": "code",
      "source": [
        "# Failure case: Queries to info not in the source doc should ideally fall back\n",
        "# to the base model. This might be a langchain issue also.\n",
        "chain.run(input_documents=similar_docs, question=question)"
      ],
      "metadata": {
        "colab": {
          "base_uri": "https://localhost:8080/",
          "height": 35
        },
        "id": "2qr-zPUlwE9r",
        "outputId": "72c4537e-357f-4fb1-9a7d-fe54757ceb56"
      },
      "execution_count": 72,
      "outputs": [
        {
          "output_type": "execute_result",
          "data": {
            "text/plain": [
              "\" I'm sorry, I don't know.\""
            ],
            "application/vnd.google.colaboratory.intrinsic+json": {
              "type": "string"
            }
          },
          "metadata": {},
          "execution_count": 72
        }
      ]
    },
    {
      "cell_type": "code",
      "source": [
        "model(question)"
      ],
      "metadata": {
        "colab": {
          "base_uri": "https://localhost:8080/",
          "height": 122
        },
        "id": "peX-Z2ZrwwJV",
        "outputId": "aa55748e-3cfb-4cf9-9ea5-a27b0e27ab7e"
      },
      "execution_count": 73,
      "outputs": [
        {
          "output_type": "execute_result",
          "data": {
            "text/plain": [
              "'\\n\\n1. Research local solar installers: Start by researching local solar installers in your area. Ask for referrals from friends and family, and read online reviews.\\n\\n2. Get a free solar quote: Contact the solar installers you’ve researched and ask for a free quote. Make sure to ask questions about the type of equipment they use, the installation process, and any warranties or guarantees they offer.\\n\\n3. Choose the right installer: Once you’ve received quotes from several installers, compare them and choose the one that best meets your needs.\\n\\n4. Sign the contract: Once you’ve chosen an installer, sign the contract and make sure you understand all of the terms and conditions.\\n\\n5. Schedule the installation: Schedule a date for the installation and make sure you’re available to answer any questions the installer may have.\\n\\n6. Monitor your system: Once the installation is complete, monitor your system to make sure it’s working properly and producing the expected amount of energy.'"
            ],
            "application/vnd.google.colaboratory.intrinsic+json": {
              "type": "string"
            }
          },
          "metadata": {},
          "execution_count": 73
        }
      ]
    },
    {
      "cell_type": "code",
      "source": [],
      "metadata": {
        "id": "a7HWaGKlwxFT"
      },
      "execution_count": null,
      "outputs": []
    }
  ]
}