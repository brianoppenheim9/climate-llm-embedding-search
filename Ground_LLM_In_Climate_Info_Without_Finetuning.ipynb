{
  "nbformat": 4,
  "nbformat_minor": 0,
  "metadata": {
    "colab": {
      "provenance": [],
      "authorship_tag": "ABX9TyN3lOqH4qDHczV+B5LXJ2Rc",
      "include_colab_link": true
    },
    "kernelspec": {
      "name": "python3",
      "display_name": "Python 3"
    },
    "language_info": {
      "name": "python"
    }
  },
  "cells": [
    {
      "cell_type": "markdown",
      "metadata": {
        "id": "view-in-github",
        "colab_type": "text"
      },
      "source": [
        "<a href=\"https://colab.research.google.com/github/brianoppenheim9/climate-llm-embedding-search/blob/main/Ground_LLM_In_Climate_Info_Without_Finetuning.ipynb\" target=\"_parent\"><img src=\"https://colab.research.google.com/assets/colab-badge.svg\" alt=\"Open In Colab\"/></a>"
      ]
    },
    {
      "cell_type": "markdown",
      "source": [
        "# Goal\n",
        "Lots of great information in climate/earth science is locked up in major intergovernmental reports like the IPCC. The summarized url version linked below is only a small fraction of the actual ~12000 pages that will be eventually be released for the sixth assessment. It would be great to for policymakers and hobbyists to be able to converse with this other documents.\n",
        "\n",
        "Some folks have already tried to do this with ClimateBERT at chatclimate.ai, but to the best of my knowledge this is a fine-tuned approach and about a year behind relevant docs (2022). I'm curious if we can get decent, grounded QA without the overhead and cost of fine-tuning.\n",
        "\n",
        "# Approach\n",
        "\n",
        "Chunk the document and turn those chunks into embeddings using a model of choice (in this case OpenAI for ease of execution). Those embeddings are stored in a database that supports vector similarity search (Pinecone). When a user writes a query we get it into the same emedding space, and retrieve the k=5 most relevant chunks of the document. This is appended as context to the model prompt using Langchain. Heavy lifting of document loading/parsing handled by Langchain as well.\n",
        "\n"
      ],
      "metadata": {
        "id": "VzSM6flCIJHV"
      }
    },
    {
      "cell_type": "markdown",
      "source": [
        "# TODOs\n",
        "\n",
        "\n",
        "*   Actually finalize the list of documents to include all IPCC reports from the sixth assessment cycle once they are released to the public in totality (~12k pages or so?)\n",
        "*   Langchain claims the tokenizing/parsing works out of the box but may want to double check this/weird symbols.\n",
        "*   On the same note, these papers are filled with charts/infographics/tables. Can't do much about the infographics w/o multi-modal, but should dig really deep into the tables/figures to see if we're extracting correctly.\n",
        "*   Smarter document chunking as opposed to just going by e.g 1000. Maybe crawl the DOM, get paragraphs and such.\n",
        "*   Different ways of doing vector similarity search and langchain appending.\n",
        "*   Overall the model is a little *too* grounded and has a tendency to pull only the minimum correct info from the document without the normal elaboration that makes LLMs useful. See if I can tune temperature higher to support more creative/synthesizing queries without sacrificing the objectivity we try to cultivate, or maybe just feed less context (k <= 3 for retrieval? Or assign this dynamically on document size?).\n",
        "\n",
        "\n"
      ],
      "metadata": {
        "id": "2jVTPffcOTP-"
      }
    },
    {
      "cell_type": "markdown",
      "source": [
        "**Install Neceessary Package and Set Up API Keys**"
      ],
      "metadata": {
        "id": "kjcU8K4Wvu8F"
      }
    },
    {
      "cell_type": "code",
      "execution_count": null,
      "metadata": {
        "id": "vyCBY_jpm1Tr"
      },
      "outputs": [],
      "source": [
        "!pip install langchain --upgrade\n",
        "!pip install unstructured\n",
        "!pip install pinecone-client\n",
        "!pip install getpass4\n",
        "!pip install openai\n",
        "!pip install tiktoken"
      ]
    },
    {
      "cell_type": "code",
      "source": [
        "from getpass import getpass\n",
        "from langchain.chains.question_answering import load_qa_chain\n",
        "from langchain.document_loaders import UnstructuredURLLoader\n",
        "from langchain.embeddings.openai import OpenAIEmbeddings\n",
        "from langchain.llms import OpenAI\n",
        "from langchain.text_splitter import RecursiveCharacterTextSplitter\n",
        "from langchain.vectorstores import Pinecone\n",
        "import pinecone"
      ],
      "metadata": {
        "id": "w4JAgSxLrE9F"
      },
      "execution_count": null,
      "outputs": []
    },
    {
      "cell_type": "code",
      "source": [
        "# Extract necessary api key and metadata without putting them on the internet...\n",
        "openai_api_key = getpass('Enter OpenAI API key: ')\n",
        "pinecone_api_key = getpass('Enter pinecone API key: ')\n",
        "pinecone_environment = 'us-west1-gcp-free' # To the left of api key\n",
        "# Name of the index to use in Pinecone Vector Database. For this I created the\n",
        "# index with dimension size 1536 (this matches the size of OpenAI's embeddings\n",
        "# but you could also use HuggingFace, etc. so long as it matches) and cosine\n",
        "# similarity as the default notion of vector similarity.\n",
        "pinecone_index = 'climatequery'"
      ],
      "metadata": {
        "colab": {
          "base_uri": "https://localhost:8080/"
        },
        "id": "a2pxJYGdzYi3",
        "outputId": "4064201f-536e-474a-c4d1-a1b57b6430ad"
      },
      "execution_count": 3,
      "outputs": [
        {
          "name": "stdout",
          "output_type": "stream",
          "text": [
            "Enter OpenAI API key: ··········\n",
            "Enter Pinecone API key: ··········\n"
          ]
        }
      ]
    },
    {
      "cell_type": "markdown",
      "source": [
        "**Extract and Load Climate Information**"
      ],
      "metadata": {
        "id": "h1dqFTW7vBL1"
      }
    },
    {
      "cell_type": "code",
      "source": [
        "# Summarized version of the report as a placeholder for the proof of concept,\n",
        "# to be replaced by the full 12k pages when released.\n",
        "urls = [\n",
        "    \"https://www.ipcc.ch/report/ar6/syr/downloads/report/IPCC_AR6_SYR_SPM.pdf\",\n",
        "]\n",
        "loader = UnstructuredURLLoader(urls=urls)\n",
        "data = loader.load()\n",
        "\n",
        "splitter = RecursiveCharacterTextSplitter(chunk_size=1000, chunk_overlap=0)\n",
        "text_chunks = splitter.split_documents(data)"
      ],
      "metadata": {
        "id": "C3oq_wUNnicT"
      },
      "execution_count": null,
      "outputs": []
    },
    {
      "cell_type": "code",
      "source": [
        "# Sanity check the text.\n",
        "print(f'{len(data)} doc(s) processed. First doc has {len(data[0].page_content)} tokens.')\n",
        "print(f'{len(text_chunks)} chunks created.')"
      ],
      "metadata": {
        "colab": {
          "base_uri": "https://localhost:8080/"
        },
        "id": "E6KH1EuvsyUq",
        "outputId": "feec88bc-86e6-4d31-aec0-f079c82a2b26"
      },
      "execution_count": 6,
      "outputs": [
        {
          "output_type": "stream",
          "name": "stdout",
          "text": [
            "1 doc(s) processed. First doc has 149761 tokens.\n",
            "207 chunks created.\n"
          ]
        }
      ]
    },
    {
      "cell_type": "markdown",
      "source": [
        "**Perform Semantic Search by Embedding Document Text**"
      ],
      "metadata": {
        "id": "ijbpiGmlGsM6"
      }
    },
    {
      "cell_type": "code",
      "source": [
        "pinecone.init(api_key=pinecone_api_key, environment=pinecone_environment)\n",
        "openai_embeddings = OpenAIEmbeddings(openai_api_key=openai_api_key)"
      ],
      "metadata": {
        "id": "xurCxIqKyNII"
      },
      "execution_count": 53,
      "outputs": []
    },
    {
      "cell_type": "code",
      "source": [
        "content = [text.page_content for text in text_chunks]\n",
        "docsearch = Pinecone.from_texts(content, openai_embeddings,\n",
        "                                index_name=pinecone_index)"
      ],
      "metadata": {
        "id": "VmffXZCUC6Lp"
      },
      "execution_count": 57,
      "outputs": []
    },
    {
      "cell_type": "code",
      "source": [
        "model = OpenAI(temperature=0.2, openai_api_key=openai_api_key)"
      ],
      "metadata": {
        "id": "R1hEQCTlHJPC"
      },
      "execution_count": 58,
      "outputs": []
    },
    {
      "cell_type": "code",
      "source": [
        "# 'stuff' uses all retrieved documents without filtering. For larger documents\n",
        "# it may be better to do map_reduce or map_rerank which filters the least useful\n",
        "# retrieved docs.\n",
        "chain = load_qa_chain(model, chain_type=\"stuff\")"
      ],
      "metadata": {
        "id": "45ycyzQRJd3s"
      },
      "execution_count": 59,
      "outputs": []
    },
    {
      "cell_type": "markdown",
      "source": [
        "**Query Model w/ Document Context**"
      ],
      "metadata": {
        "id": "8opSHpm-GpC4"
      }
    },
    {
      "cell_type": "code",
      "source": [
        "question = \"If we do nothing, how much will the planet warm by 2100\"\n",
        "similar_docs = docsearch.similarity_search(question)\n",
        "print(similar_docs)"
      ],
      "metadata": {
        "id": "RC86Qzfjum1z"
      },
      "execution_count": null,
      "outputs": []
    },
    {
      "cell_type": "code",
      "source": [
        "# Correct, see section B.1.1\n",
        "chain.run(input_documents=similar_docs, question=question)"
      ],
      "metadata": {
        "colab": {
          "base_uri": "https://localhost:8080/",
          "height": 35
        },
        "id": "OO9hvmr6u58P",
        "outputId": "6f13ee20-f6be-4dae-b927-09b4178bdb44"
      },
      "execution_count": 75,
      "outputs": [
        {
          "output_type": "execute_result",
          "data": {
            "text/plain": [
              "' If we do nothing, the planet is likely to warm by 4.4°C by 2100.'"
            ],
            "application/vnd.google.colaboratory.intrinsic+json": {
              "type": "string"
            }
          },
          "metadata": {},
          "execution_count": 75
        }
      ]
    },
    {
      "cell_type": "code",
      "source": [
        "# Model without any documents.\n",
        "# Not wrong but not as up-to-date / precise.\n",
        "model(question)"
      ],
      "metadata": {
        "colab": {
          "base_uri": "https://localhost:8080/",
          "height": 35
        },
        "id": "CcmLyxfeu937",
        "outputId": "f3e94f37-acdc-4be1-bdd7-bab0b1015b78"
      },
      "execution_count": 76,
      "outputs": [
        {
          "output_type": "execute_result",
          "data": {
            "text/plain": [
              "'?\\n\\nIf no action is taken to reduce emissions, the planet is projected to warm by an average of 3.2 to 5.4 degrees Celsius (5.8 to 9.7 degrees Fahrenheit) by 2100.'"
            ],
            "application/vnd.google.colaboratory.intrinsic+json": {
              "type": "string"
            }
          },
          "metadata": {},
          "execution_count": 76
        }
      ]
    },
    {
      "cell_type": "code",
      "source": [
        "# The paper gives a lot of ways to mitigate... In particular I'm looking for the\n",
        "# the best results from the (difficult to parse) table on page 31.\n",
        "question = \"What are the five best mitigation options to reduce net emissions?\"\n",
        "similar_docs = docsearch.similarity_search(question)\n",
        "print(similar_docs)"
      ],
      "metadata": {
        "id": "uZOCEg_4KIZS"
      },
      "execution_count": null,
      "outputs": []
    },
    {
      "cell_type": "code",
      "source": [
        "# It's terse but this is exactly the correct order.\n",
        "chain.run(input_documents=similar_docs, question=question)"
      ],
      "metadata": {
        "colab": {
          "base_uri": "https://localhost:8080/",
          "height": 35
        },
        "id": "mMv17cNmGicx",
        "outputId": "d6627def-ec2f-4f69-acd0-e6a9a47416f7"
      },
      "execution_count": 62,
      "outputs": [
        {
          "output_type": "execute_result",
          "data": {
            "text/plain": [
              "' Solar, wind, reduce methane from coal, oil and gas, bioelectricity (includes BECCS), and geothermal and hydropower.'"
            ],
            "application/vnd.google.colaboratory.intrinsic+json": {
              "type": "string"
            }
          },
          "metadata": {},
          "execution_count": 62
        }
      ]
    },
    {
      "cell_type": "code",
      "source": [
        "# More expository and not wrong, just not necessarily grounded in the results\n",
        "# of the paper.\n",
        "model(question)"
      ],
      "metadata": {
        "colab": {
          "base_uri": "https://localhost:8080/",
          "height": 105
        },
        "id": "T0g8uLAeZWOL",
        "outputId": "5344cf65-f95a-43ff-cf00-6fe701bf74d4"
      },
      "execution_count": 61,
      "outputs": [
        {
          "output_type": "execute_result",
          "data": {
            "text/plain": [
              "'\\n\\n1. Increase energy efficiency: Investing in energy efficiency measures such as insulation, LED lighting, and energy efficient appliances can reduce energy consumption and emissions.\\n\\n2. Renewable energy: Investing in renewable energy sources such as solar, wind, and geothermal can reduce emissions and provide clean energy.\\n\\n3. Carbon capture and storage: Capturing and storing carbon dioxide emissions from power plants and other sources can reduce net emissions.\\n\\n4. Reforestation: Planting trees and other vegetation can help absorb carbon dioxide from the atmosphere and reduce net emissions.\\n\\n5. Sustainable agriculture: Implementing sustainable agricultural practices such as crop rotation, cover crops, and no-till farming can reduce emissions from agricultural activities.'"
            ],
            "application/vnd.google.colaboratory.intrinsic+json": {
              "type": "string"
            }
          },
          "metadata": {},
          "execution_count": 61
        }
      ]
    },
    {
      "cell_type": "code",
      "source": [
        "# There is a little ambiguity in this question (e.g reduce emissions\n",
        "# compared to what timeframe? What is the time horizon?)\n",
        "question = \"How many gigatons of CO2 emissions do we have to cut by 2035 to limit warming to 1.5 degrees Celcius?\"\n",
        "similar_docs = docsearch.similarity_search(question)\n",
        "print(similar_docs)"
      ],
      "metadata": {
        "id": "5vKzcArDD3iB"
      },
      "execution_count": null,
      "outputs": []
    },
    {
      "cell_type": "code",
      "source": [
        "# 8.5 is orders of magnitude off the mark...\n",
        "model(question)"
      ],
      "metadata": {
        "colab": {
          "base_uri": "https://localhost:8080/",
          "height": 53
        },
        "id": "fKw_232tVhAz",
        "outputId": "7fc936a3-f5d6-4a48-92c2-f2548f953198"
      },
      "execution_count": 80,
      "outputs": [
        {
          "output_type": "execute_result",
          "data": {
            "text/plain": [
              "'\\n\\nAccording to the Intergovernmental Panel on Climate Change (IPCC), we need to cut global net CO2 emissions by 45% from 2010 levels by 2030 and reach net zero by 2050 in order to limit global warming to 1.5 degrees Celsius. This would require reducing global CO2 emissions by an estimated 8.5 gigatons by 2035.'"
            ],
            "application/vnd.google.colaboratory.intrinsic+json": {
              "type": "string"
            }
          },
          "metadata": {},
          "execution_count": 80
        }
      ]
    },
    {
      "cell_type": "code",
      "source": [
        "# Correct according to B.5.2\n",
        "chain.run(input_documents=similar_docs, question=question)"
      ],
      "metadata": {
        "colab": {
          "base_uri": "https://localhost:8080/",
          "height": 70
        },
        "id": "QSjPJnPlJ5Mc",
        "outputId": "96afb455-86f2-49c8-d952-8d3a48e3f103"
      },
      "execution_count": 81,
      "outputs": [
        {
          "output_type": "execute_result",
          "data": {
            "text/plain": [
              "' According to the context, limiting warming to 1.5°C with no or limited overshoot involves rapid and deep and, in most cases, immediate greenhouse gas emissions reductions in all sectors this decade. The best estimates of the remaining carbon budgets from the beginning of 2020 are 500 GtCO2 for a 50% likelihood of limiting global warming to 1.5°C. Therefore, we need to cut at least 500 GtCO2 emissions by 2035 to limit warming to 1.5 degrees Celcius.'"
            ],
            "application/vnd.google.colaboratory.intrinsic+json": {
              "type": "string"
            }
          },
          "metadata": {},
          "execution_count": 81
        }
      ]
    },
    {
      "cell_type": "code",
      "source": [
        "# Test when we get queries with less explicit connections to the source.\n",
        "# See if it actually gives a creative answer.\n",
        "\n",
        "# Both answers work but the one without grounding is probably a little\n",
        "# subjectively better/informative.\n",
        "question = \"What are some creative ways to combat climate change?\"\n",
        "similar_docs = docsearch.similarity_search(question)\n",
        "print(similar_docs)"
      ],
      "metadata": {
        "id": "VBq-bZ55H8Z2"
      },
      "execution_count": null,
      "outputs": []
    },
    {
      "cell_type": "code",
      "source": [
        "chain.run(input_documents=similar_docs, question=question)"
      ],
      "metadata": {
        "colab": {
          "base_uri": "https://localhost:8080/",
          "height": 53
        },
        "id": "qvCUrKLCH-yT",
        "outputId": "45a8dace-342d-4b3d-f4e5-4913102d4acc"
      },
      "execution_count": 84,
      "outputs": [
        {
          "output_type": "execute_result",
          "data": {
            "text/plain": [
              "' Some creative ways to combat climate change include using carbon capture and storage, improving water use efficiency, shifting to sustainable healthy diets, restoring ecosystems, agroforestry, and using renewable energy sources like solar and wind.'"
            ],
            "application/vnd.google.colaboratory.intrinsic+json": {
              "type": "string"
            }
          },
          "metadata": {},
          "execution_count": 84
        }
      ]
    },
    {
      "cell_type": "code",
      "source": [
        "model(question)"
      ],
      "metadata": {
        "colab": {
          "base_uri": "https://localhost:8080/",
          "height": 122
        },
        "id": "3w0hh6PlzdQ9",
        "outputId": "4a36ff3e-2ef0-4e35-d4fd-e17da376aa21"
      },
      "execution_count": 85,
      "outputs": [
        {
          "output_type": "execute_result",
          "data": {
            "text/plain": [
              "'\\n\\n1. Plant trees: Planting trees is one of the most effective ways to combat climate change. Trees absorb carbon dioxide from the atmosphere, helping to reduce the amount of greenhouse gases in the air.\\n\\n2. Reduce energy consumption: Reducing energy consumption is one of the most important things we can do to combat climate change. This can be done by using energy-efficient appliances, turning off lights when not in use, and unplugging electronics when not in use.\\n\\n3. Use renewable energy sources: Renewable energy sources such as solar, wind, and geothermal can help reduce our reliance on fossil fuels and reduce greenhouse gas emissions.\\n\\n4. Eat less meat: Eating less meat can help reduce greenhouse gas emissions, as the production of meat requires a lot of energy and resources.\\n\\n5. Support sustainable agriculture: Supporting sustainable agriculture practices such as crop rotation, composting, and using natural fertilizers can help reduce the amount of greenhouse gases released into the atmosphere.\\n\\n6. Drive less: Driving less can help reduce greenhouse gas emissions, as cars and other vehicles are major sources of air pollution.\\n\\n7. Recycle: Recycling can help reduce the amount of waste that is sent to landfills,'"
            ],
            "application/vnd.google.colaboratory.intrinsic+json": {
              "type": "string"
            }
          },
          "metadata": {},
          "execution_count": 85
        }
      ]
    },
    {
      "cell_type": "code",
      "source": [
        "question = \"How do I install solar on my roof?\"\n",
        "similar_docs = docsearch.similarity_search(question)\n",
        "print(similar_docs)"
      ],
      "metadata": {
        "id": "iJA7D-W5Unsb"
      },
      "execution_count": null,
      "outputs": []
    },
    {
      "cell_type": "code",
      "source": [
        "# Failure case: Queries to info not in the source doc should ideally fall back\n",
        "# to the base model. This might be a langchain issue also.\n",
        "chain.run(input_documents=similar_docs, question=question)"
      ],
      "metadata": {
        "colab": {
          "base_uri": "https://localhost:8080/",
          "height": 35
        },
        "id": "2qr-zPUlwE9r",
        "outputId": "72c4537e-357f-4fb1-9a7d-fe54757ceb56"
      },
      "execution_count": 72,
      "outputs": [
        {
          "output_type": "execute_result",
          "data": {
            "text/plain": [
              "\" I'm sorry, I don't know.\""
            ],
            "application/vnd.google.colaboratory.intrinsic+json": {
              "type": "string"
            }
          },
          "metadata": {},
          "execution_count": 72
        }
      ]
    },
    {
      "cell_type": "code",
      "source": [
        "model(question)"
      ],
      "metadata": {
        "colab": {
          "base_uri": "https://localhost:8080/",
          "height": 122
        },
        "id": "peX-Z2ZrwwJV",
        "outputId": "aa55748e-3cfb-4cf9-9ea5-a27b0e27ab7e"
      },
      "execution_count": 73,
      "outputs": [
        {
          "output_type": "execute_result",
          "data": {
            "text/plain": [
              "'\\n\\n1. Research local solar installers: Start by researching local solar installers in your area. Ask for referrals from friends and family, and read online reviews.\\n\\n2. Get a free solar quote: Contact the solar installers you’ve researched and ask for a free quote. Make sure to ask questions about the type of equipment they use, the installation process, and any warranties or guarantees they offer.\\n\\n3. Choose the right installer: Once you’ve received quotes from several installers, compare them and choose the one that best meets your needs.\\n\\n4. Sign the contract: Once you’ve chosen an installer, sign the contract and make sure you understand all of the terms and conditions.\\n\\n5. Schedule the installation: Schedule a date for the installation and make sure you’re available to answer any questions the installer may have.\\n\\n6. Monitor your system: Once the installation is complete, monitor your system to make sure it’s working properly and producing the expected amount of energy.'"
            ],
            "application/vnd.google.colaboratory.intrinsic+json": {
              "type": "string"
            }
          },
          "metadata": {},
          "execution_count": 73
        }
      ]
    },
    {
      "cell_type": "code",
      "source": [],
      "metadata": {
        "id": "a7HWaGKlwxFT"
      },
      "execution_count": null,
      "outputs": []
    }
  ]
}